{
 "cells": [
  {
   "cell_type": "code",
   "execution_count": null,
   "metadata": {},
   "outputs": [],
   "source": [
    "from osw_eval_core.data import MultiAgentDataset\n",
    "\n",
    "data = MultiAgentDataset(\n",
    "    name=\"WebArena Interactions\",\n",
    "    base_path=\"../.data/webarena\",\n",
    ")"
   ]
  },
  {
   "cell_type": "code",
   "execution_count": null,
   "metadata": {},
   "outputs": [],
   "source": [
    "instances = data.list_instances()\n",
    "print(list(data.get_instance_metadata(instances[0]).agents))\n",
    "list(data.get_trajectory(instances[100], \"agent\").points)"
   ]
  },
  {
   "cell_type": "code",
   "execution_count": null,
   "metadata": {},
   "outputs": [],
   "source": []
  }
 ],
 "metadata": {
  "language_info": {
   "name": "python"
  }
 },
 "nbformat": 4,
 "nbformat_minor": 2
}
