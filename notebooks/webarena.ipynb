{
 "cells": [
  {
   "cell_type": "code",
   "execution_count": 1,
   "metadata": {},
   "outputs": [
    {
     "name": "stderr",
     "output_type": "stream",
     "text": [
      "/Users/hao/osw-eval/.venv/lib/python3.10/site-packages/pydantic/_internal/_fields.py:192: UserWarning: Field name \"schema\" in \"AnnotationProject\" shadows an attribute in parent \"BaseModel\"\n",
      "  warnings.warn(\n"
     ]
    }
   ],
   "source": [
    "from osw_eval_core.data import MultiAgentDataset, AnnotationSystem, AnnotationSpan\n",
    "\n",
    "data = MultiAgentDataset(\n",
    "    name=\"WebArena Interactions\",\n",
    "    base_path=\"../.data/webarena\",\n",
    ")"
   ]
  },
  {
   "cell_type": "code",
   "execution_count": 3,
   "metadata": {},
   "outputs": [
    {
     "name": "stdout",
     "output_type": "stream",
     "text": [
      "['agent', 'user']\n"
     ]
    },
    {
     "data": {
      "text/plain": [
       "[]"
      ]
     },
     "execution_count": 3,
     "metadata": {},
     "output_type": "execute_result"
    }
   ],
   "source": [
    "instances = data.list_instances()\n",
    "print(list(data.get_instance_metadata(instances[0]).agents))\n",
    "list(data.get_trajectory(instances[100], 'agent').points)"
   ]
  },
  {
   "cell_type": "code",
   "execution_count": null,
   "metadata": {},
   "outputs": [],
   "source": []
  }
 ],
 "metadata": {
  "language_info": {
   "name": "python"
  }
 },
 "nbformat": 4,
 "nbformat_minor": 2
}
